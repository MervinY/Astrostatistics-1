{
 "cells": [
  {
   "cell_type": "code",
   "execution_count": 4,
   "metadata": {
    "collapsed": false
   },
   "outputs": [],
   "source": [
    "%matplotlib inline\n",
    "import numpy as np\n",
    "import scipy as sp\n",
    "import matplotlib.pyplot as plt\n",
    "import astropy.io.fits as fits\n",
    "\n",
    "def loadData(filename):\n",
    "    '''\n",
    "    Read fits data\n",
    "    '''\n",
    "    tchfits = fits.open(filename)\n",
    "    tabl = tchfits[1].data\n",
    "    return tabl\n",
    "\n"
   ]
  },
  {
   "cell_type": "code",
   "execution_count": 5,
   "metadata": {
    "collapsed": false
   },
   "outputs": [
    {
     "name": "stdout",
     "output_type": "stream",
     "text": [
      "N_star=28, N_gal=22\n",
      "\n",
      "0.557692307692\n"
     ]
    }
   ],
   "source": [
    "# star/galaxy ratio in a small field of sky\n",
    "filename = 'sdss_field.fits'\n",
    "sdss = loadData(filename)\n",
    "\n",
    "types = sdss.type[0:50]\n",
    "Nstar = np.sum(types==3)\n",
    "N = 50\n",
    "print 'N_star=%(d1)d, N_gal=%(d2)d\\n' % {'d1':Nstar,'d2':np.sum(types==6)}\n",
    "E_th_y = (Nstar+1.)/(N+2.)\n",
    "print E_th_y"
   ]
  },
  {
   "cell_type": "code",
   "execution_count": 6,
   "metadata": {
    "collapsed": false
   },
   "outputs": [
    {
     "name": "stdout",
     "output_type": "stream",
     "text": [
      "N_star=126, N_gal=74\n",
      "\n",
      "0.628712871287\n"
     ]
    }
   ],
   "source": [
    "types = sdss.type[0:200]\n",
    "Nstar = np.sum(types==3)\n",
    "N = 200\n",
    "print 'N_star=%(d1)d, N_gal=%(d2)d\\n' % {'d1':Nstar,'d2':np.sum(types==6)}\n",
    "E_th_y = (Nstar+1.)/(N+2.)\n",
    "print E_th_y"
   ]
  },
  {
   "cell_type": "code",
   "execution_count": 7,
   "metadata": {
    "collapsed": false
   },
   "outputs": [
    {
     "name": "stdout",
     "output_type": "stream",
     "text": [
      "N_star=270, N_gal=130\n",
      "\n",
      "0.674129353234\n"
     ]
    }
   ],
   "source": [
    "types = sdss.type[0:400]\n",
    "Nstar = np.sum(types==3)\n",
    "N = 400\n",
    "print 'N_star=%(d1)d, N_gal=%(d2)d\\n' % {'d1':Nstar,'d2':np.sum(types==6)}\n",
    "E_th_y = (Nstar+1.)/(N+2.)\n",
    "print E_th_y"
   ]
  },
  {
   "cell_type": "code",
   "execution_count": 8,
   "metadata": {
    "collapsed": false
   },
   "outputs": [
    {
     "name": "stdout",
     "output_type": "stream",
     "text": [
      "0.648522550544\n"
     ]
    }
   ],
   "source": [
    "Nstar0 = np.sum(sdss.type==3)\n",
    "print Nstar0/np.float(len(sdss.type))"
   ]
  },
  {
   "cell_type": "code",
   "execution_count": 30,
   "metadata": {
    "collapsed": false
   },
   "outputs": [
    {
     "data": {
      "image/png": "[encoded data removed]",
      "text/plain": [
       "<matplotlib.figure.Figure at 0x10f357cd0>"
      ]
     },
     "metadata": {},
     "output_type": "display_data"
    }
   ],
   "source": [
    "## the mean redshift of Coma cxluster\n",
    "filename = '/Users/cliu/pyw/Astrostatistics/ComaCluster.fits'\n",
    "coma = loadData(filename)\n",
    "cz = coma.czA[coma.czA<10000]\n",
    "\n",
    "zgrid =np.arange(2000.,11000.,500.)\n",
    "h, xedge = np.histogram(cz, bins=zgrid)\n",
    "fig = plt.figure(figsize=[6,4])\n",
    "ax = fig.add_subplot(111)\n",
    "ax.plot(zgrid[0:-1]+250.,h,'k*-')\n",
    "ax.set_xlabel('redshift (km/s)')\n",
    "fig.show()"
   ]
  },
  {
   "cell_type": "code",
   "execution_count": null,
   "metadata": {
    "collapsed": true
   },
   "outputs": [],
   "source": [
    "## estimate the rotation speed in the solar neighborhood\n"
   ]
  }
 ],
 "metadata": {
  "anaconda-cloud": {},
  "kernelspec": {
   "display_name": "Python [conda root]",
   "language": "python",
   "name": "conda-root-py"
  },
  "language_info": {
   "codemirror_mode": {
    "name": "ipython",
    "version": 2
   },
   "file_extension": ".py",
   "mimetype": "text/x-python",
   "name": "python",
   "nbconvert_exporter": "python",
   "pygments_lexer": "ipython2",
   "version": "2.7.12"
  }
 },
 "nbformat": 4,
 "nbformat_minor": 1
}
